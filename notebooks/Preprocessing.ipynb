{
 "cells": [
  {
   "cell_type": "code",
   "execution_count": 70,
   "metadata": {},
   "outputs": [],
   "source": [
    "import sys\n",
    "import pandas as pd\n",
    "import pickle, os"
   ]
  },
  {
   "cell_type": "code",
   "execution_count": 71,
   "metadata": {},
   "outputs": [],
   "source": [
    "# defualts:\n",
    "def save_it_all(obj, filename):\n",
    "    os.makedirs(os.path.dirname(filename), exist_ok=True)\n",
    "    with open(filename, 'wb') as output:  # Overwrites any existing file.\n",
    "        pickle.dump(obj, output, protocol=2)\n",
    "\n",
    "def load_objects(file):\n",
    "    with open(file, 'rb') as input:\n",
    "        return pickle.load(input)\n",
    "    \n",
    "def saveFrame(df, name):\n",
    "    df.to_csv(name+\".csv\", index=False, sep=\",\", header=True)\n",
    "    save_it_all(df, name+\".pkl\")\n",
    "    \n",
    "# read info file:\n",
    "def readFile(fname):\n",
    "    with open(fname) as f:\n",
    "        content = f.readlines()\n",
    "    # you may also want to remove whitespace characters like `\\n` at the end of each line\n",
    "    content = [x.strip() for x in content]\n",
    "    return content\n",
    "\n",
    "def RepresentsInt(s):\n",
    "    try: \n",
    "        int(s)\n",
    "        return True\n",
    "    except ValueError:\n",
    "        return False\n",
    "    \n",
    "def prep(info):\n",
    "    \"\"\"\n",
    "        This gets the info for the data set organized and in a dictionray\n",
    "    \"\"\"\n",
    "    infoDict = {}\n",
    "    for index in range(0, len(info)):\n",
    "        if index == 0:\n",
    "            # class values\n",
    "            infoDict[\"classInfo\"] = {\"num\": int(info[index]), \"values\": info[1].split(\",\")}\n",
    "\n",
    "        if index == 2:\n",
    "            infoDict[\"attributeInfo\"] = {\"num\":int(info[index])}\n",
    "            for attributeIndex in range(index+1, index+1+int(info[index])):\n",
    "                attribute = info[attributeIndex].split(\",\")[0]\n",
    "                numValues = info[attributeIndex].split(\",\")[1]\n",
    "                values = info[attributeIndex].split(\",\")[2:]\n",
    "                if RepresentsInt(values[0]):\n",
    "                    values = list(map(int, values))\n",
    "                infoDict[\"attributeInfo\"][attribute] = {\"num\":numValues, \"values\":values}   \n",
    "        if index == len(info)-1:\n",
    "            infoDict[\"total\"] = int(info[index])\n",
    "\n",
    "    return infoDict"
   ]
  },
  {
   "cell_type": "code",
   "execution_count": 74,
   "metadata": {},
   "outputs": [],
   "source": [
    "# read in the data file \n",
    "\n",
    "def main():\n",
    "\n",
    "#     # fish\n",
    "#     dataFrame = pd.read_csv(\"../DataFiles/fishData/fishing.csv\", header=0, sep=',')\n",
    "#     dataFrame.head()\n",
    "#     saveFrame(dataFrame, \"../DataFiles/fishData/processedFishData\")\n",
    "#     info = readFile(\"../DataFiles/fishData/fishInfo.txt\")\n",
    "#     save = \"../DataFiles/fishData/fishCounts.pkl\"\n",
    "\n",
    "    # # contacts\n",
    "    # dataFrame = pd.read_csv(\"../DataFiles/contactData/contact-lenses.csv\", header=0, sep=',')\n",
    "    # dataFrame.head()\n",
    "    # saveFrame(dataFrame, \"../DataFiles/contactData/contactData\")\n",
    "    # info = readFile(\"../DataFiles/contactData/contactInfo.txt\")\n",
    "    # save = \"../DataFiles/carData/contactCounts.pkl\"\n",
    "\n",
    "    # cars\n",
    "    dataFrame = pd.read_csv(\"../DataFiles/carData/car_training.csv\", header=0, sep=',')\n",
    "    dataFrame.head()\n",
    "    saveFrame(dataFrame, \"../DataFiles/carData/carData\")\n",
    "    info = readFile(\"../DataFiles/carData/cartraininginfo.txt\")\n",
    "    save = \"../DataFiles/carData/carCounts.pkl\"\n",
    "\n",
    "    save_it_all(prep(info), save)"
   ]
  },
  {
   "cell_type": "code",
   "execution_count": 75,
   "metadata": {},
   "outputs": [],
   "source": [
    "main()"
   ]
  },
  {
   "cell_type": "code",
   "execution_count": null,
   "metadata": {},
   "outputs": [],
   "source": []
  }
 ],
 "metadata": {
  "kernelspec": {
   "display_name": "Python 3",
   "language": "python",
   "name": "python3"
  },
  "language_info": {
   "codemirror_mode": {
    "name": "ipython",
    "version": 3
   },
   "file_extension": ".py",
   "mimetype": "text/x-python",
   "name": "python",
   "nbconvert_exporter": "python",
   "pygments_lexer": "ipython3",
   "version": "3.7.2"
  }
 },
 "nbformat": 4,
 "nbformat_minor": 2
}
