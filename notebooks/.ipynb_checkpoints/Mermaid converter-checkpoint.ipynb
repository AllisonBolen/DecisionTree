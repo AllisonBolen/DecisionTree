{
 "cells": [
  {
   "cell_type": "code",
   "execution_count": 9,
   "metadata": {},
   "outputs": [],
   "source": [
    "import pickle, os\n",
    "from pprint import pprint"
   ]
  },
  {
   "cell_type": "code",
   "execution_count": 10,
   "metadata": {},
   "outputs": [],
   "source": [
    "# defualts:\n",
    "def save_it_all(obj, filename):\n",
    "    os.makedirs(os.path.dirname(filename), exist_ok=True)\n",
    "    with open(filename, 'wb') as output:  # Overwrites any existing file.\n",
    "        pickle.dump(obj, output, pickle.HIGHEST_PROTOCOL)\n",
    "\n",
    "def load_objects(file):\n",
    "    with open(file, 'rb') as input:\n",
    "        return pickle.load(input)\n",
    "    \n",
    "def saveFrame(df, name):\n",
    "    df.to_csv(name+\".csv\", index=False, sep=\",\", header=True)\n",
    "    save_it_all(df, name+\".pkl\")"
   ]
  },
  {
   "cell_type": "code",
   "execution_count": 11,
   "metadata": {},
   "outputs": [],
   "source": [
    "# #fish\n",
    "# tree = load_objects(\"../DataFiles/fishData/fishTree.pkl\")\n",
    "# dataframe = pd.read_csv(\"DataFiles/fishData/processedFishData.pkl\")\n",
    "\n",
    "\n",
    "# # contacts\n",
    "# tree = load_objects(\"DataFiles/contactData/contactTree.pkl\")\n",
    "# dataframe = pd.read_csv(\"DataFiles/contactData/contactData.pkl\")\n",
    "\n",
    "# # cars\n",
    "tree = load_objects(\"DataFiles/carData/carTree.pkl\")\n",
    "# dataframe = pd.read_csv(\"DataFiles/carData/car_test.csv\")\n",
    "\n",
    "# # hw2\n",
    "# tree = load_objects(\"DataFiles/hw2set/trainTree.pkl\")\n",
    "# dataframe = pd.read_csv(\"DataFiles/hw2set/test.csv\")"
   ]
  },
  {
   "cell_type": "code",
   "execution_count": 12,
   "metadata": {},
   "outputs": [],
   "source": [
    "\n",
    "def mermaidify(dt, depth=1):\n",
    "    attribute = [k for k in dt.keys()][0]\n",
    "    for key, value in dt[attribute].items():\n",
    "        if isinstance(value, dict):\n",
    "            next_attr = [k for k in value.keys()][0]\n",
    "            print(\n",
    "                f\"{attribute}{str(depth-1)}{{{attribute}}}-->|{key}|{next_attr}{str(depth)}{{{next_attr}}}\"\n",
    "            )\n",
    "            new_depth = depth + 1\n",
    "            mermaidify(value, new_depth)\n",
    "        else:\n",
    "            print(\n",
    "                f\"{attribute}{str(depth-1)}{{{attribute}}}-->|{key}|{value}{str(depth)}{attribute}[{value}]\")"
   ]
  },
  {
   "cell_type": "code",
   "execution_count": 13,
   "metadata": {},
   "outputs": [
    {
     "name": "stdout",
     "output_type": "stream",
     "text": [
      "Forecast0{Forecast}-->|Sunny|Wind1{Wind}\n",
      "Wind1{Wind}-->|Strong|Yes2Wind[Yes]\n",
      "Wind1{Wind}-->|Weak|Water2{Water}\n",
      "Water2{Water}-->|Warm|No3Water[No]\n",
      "Water2{Water}-->|Moderate|Yes3Water[Yes]\n",
      "Water2{Water}-->|Cold|No3Water[No]\n",
      "Forecast0{Forecast}-->|Cloudy|Yes1Forecast[Yes]\n",
      "Forecast0{Forecast}-->|Rainy|Air1{Air}\n",
      "Air1{Air}-->|Warm|Wind2{Wind}\n",
      "Wind2{Wind}-->|Strong|Yes3Wind[Yes]\n",
      "Wind2{Wind}-->|Weak|No3Wind[No]\n",
      "Air1{Air}-->|Cool|No2Air[No]\n"
     ]
    }
   ],
   "source": [
    "mermaidify(tree)"
   ]
  },
  {
   "cell_type": "code",
   "execution_count": null,
   "metadata": {},
   "outputs": [],
   "source": [
    "import json\n",
    "\n",
    "with open('result.json', 'w') as fp:\n",
    "    json.dump(tree, fp)"
   ]
  }
 ],
 "metadata": {
  "kernelspec": {
   "display_name": "Python 3",
   "language": "python",
   "name": "python3"
  },
  "language_info": {
   "codemirror_mode": {
    "name": "ipython",
    "version": 3
   },
   "file_extension": ".py",
   "mimetype": "text/x-python",
   "name": "python",
   "nbconvert_exporter": "python",
   "pygments_lexer": "ipython3",
   "version": "3.7.2"
  }
 },
 "nbformat": 4,
 "nbformat_minor": 2
}
