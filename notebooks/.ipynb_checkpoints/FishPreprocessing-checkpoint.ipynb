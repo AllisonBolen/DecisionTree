{
 "cells": [
  {
   "cell_type": "code",
   "execution_count": 8,
   "metadata": {},
   "outputs": [],
   "source": [
    "import pandas as pd\n",
    "import pickle, os\n",
    "\n"
   ]
  },
  {
   "cell_type": "code",
   "execution_count": 9,
   "metadata": {},
   "outputs": [],
   "source": [
    "# defualts:\n",
    "def save_it_all(obj, filename):\n",
    "    os.makedirs(os.path.dirname(filename), exist_ok=True)\n",
    "    with open(filename, 'wb') as output:  # Overwrites any existing file.\n",
    "        pickle.dump(obj, output, pickle.HIGHEST_PROTOCOL)\n",
    "\n",
    "def load_objects(file):\n",
    "    with open(file, 'rb') as input:\n",
    "        return pickle.load(input)\n",
    "    \n",
    "def saveFrame(df, name):\n",
    "    df.to_csv(name+\".csv\", index=False, sep=\",\", header=True)\n",
    "    save_it_all(df, name+\".pkl\")\n",
    "    \n",
    "# read info file:\n",
    "def readFile(fname):\n",
    "    with open(fname) as f:\n",
    "        content = f.readlines()\n",
    "    # you may also want to remove whitespace characters like `\\n` at the end of each line\n",
    "    content = [x.strip() for x in content]\n",
    "    return content\n",
    "\n",
    "def RepresentsInt(s):\n",
    "    try: \n",
    "        int(s)\n",
    "        return True\n",
    "    except ValueError:\n",
    "        return False"
   ]
  },
  {
   "cell_type": "code",
   "execution_count": 10,
   "metadata": {},
   "outputs": [],
   "source": [
    "# read in the data file \n",
    "dataFrame = pd.read_csv(\"../DataFiles/fishData/fishing.csv\", header=0, sep=',')\n",
    "dataFrame.head()\n",
    "saveFrame(dataFrame, \"../DataFiles/fishData/processedFishData\")"
   ]
  },
  {
   "cell_type": "code",
   "execution_count": 11,
   "metadata": {},
   "outputs": [],
   "source": [
    "# read the info file \n",
    "info = readFile(\"../DataFiles/fishData/fishInfo.txt\")"
   ]
  },
  {
   "cell_type": "code",
   "execution_count": 12,
   "metadata": {},
   "outputs": [
    {
     "data": {
      "text/plain": [
       "['2',\n",
       " 'Yes,No',\n",
       " '4',\n",
       " 'Wind,2,Strong,Weak',\n",
       " 'Water,3,Warm,Moderate,Cold',\n",
       " 'Air,2,Warm,Cool',\n",
       " 'Forecast,3,Sunny,Cloudy,Rainy',\n",
       " '14']"
      ]
     },
     "execution_count": 12,
     "metadata": {},
     "output_type": "execute_result"
    }
   ],
   "source": [
    "info"
   ]
  },
  {
   "cell_type": "code",
   "execution_count": 13,
   "metadata": {},
   "outputs": [],
   "source": [
    "infoDict = {}\n",
    "for index in range(0, len(info)):\n",
    "    if index == 0:\n",
    "        # class values\n",
    "        infoDict[\"classInfo\"] = {\"num\": int(info[index]), \"values\": info[1].split(\",\")}\n",
    "        \n",
    "    if index == 2:\n",
    "        infoDict[\"attributeInfo\"] = {\"num\":int(info[index])}\n",
    "        for attributeIndex in range(index+1, index+1+int(info[index])):\n",
    "            attribute = info[attributeIndex].split(\",\")[0]\n",
    "            numValues = info[attributeIndex].split(\",\")[1]\n",
    "            values = info[attributeIndex].split(\",\")[2:]\n",
    "            infoDict[\"attributeInfo\"][attribute] = {\"num\":numValues, \"values\":values}   \n",
    "    if index == len(info)-1:\n",
    "        infoDict[\"total\"] = int(info[index])\n",
    "            \n",
    "infoDict\n",
    "save_it_all(infoDict, \"../DataFiles/fishData/fishCounts.pkl\")"
   ]
  },
  {
   "cell_type": "code",
   "execution_count": 14,
   "metadata": {},
   "outputs": [
    {
     "data": {
      "text/plain": [
       "{'classInfo': {'num': 2, 'values': ['Yes', 'No']},\n",
       " 'attributeInfo': {'num': 4,\n",
       "  'Wind': {'num': '2', 'values': ['Strong', 'Weak']},\n",
       "  'Water': {'num': '3', 'values': ['Warm', 'Moderate', 'Cold']},\n",
       "  'Air': {'num': '2', 'values': ['Warm', 'Cool']},\n",
       "  'Forecast': {'num': '3', 'values': ['Sunny', 'Cloudy', 'Rainy']}},\n",
       " 'total': 14}"
      ]
     },
     "execution_count": 14,
     "metadata": {},
     "output_type": "execute_result"
    }
   ],
   "source": [
    "infoDict"
   ]
  },
  {
   "cell_type": "code",
   "execution_count": null,
   "metadata": {},
   "outputs": [],
   "source": []
  }
 ],
 "metadata": {
  "kernelspec": {
   "display_name": "Python 3",
   "language": "python",
   "name": "python3"
  },
  "language_info": {
   "codemirror_mode": {
    "name": "ipython",
    "version": 3
   },
   "file_extension": ".py",
   "mimetype": "text/x-python",
   "name": "python",
   "nbconvert_exporter": "python",
   "pygments_lexer": "ipython3",
   "version": "3.7.2"
  }
 },
 "nbformat": 4,
 "nbformat_minor": 2
}
