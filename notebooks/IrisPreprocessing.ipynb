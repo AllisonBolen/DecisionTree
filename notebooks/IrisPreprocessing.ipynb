{
 "cells": [
  {
   "cell_type": "code",
   "execution_count": 8,
   "metadata": {},
   "outputs": [],
   "source": [
    "import pandas as pd\n",
    "import pickle, os"
   ]
  },
  {
   "cell_type": "code",
   "execution_count": 9,
   "metadata": {},
   "outputs": [],
   "source": [
    "# defualts:\n",
    "def save_it_all(obj, filename):\n",
    "    os.makedirs(os.path.dirname(filename), exist_ok=True)\n",
    "    with open(filename, 'wb') as output:  # Overwrites any existing file.\n",
    "        pickle.dump(obj, output, pickle.HIGHEST_PROTOCOL)\n",
    "\n",
    "def load_objects(file):\n",
    "    with open(file, 'rb') as input:\n",
    "        return pickle.load(input)\n",
    "    \n",
    "def saveFrame(df, name):\n",
    "    df.to_csv(name+\".csv\", index=False, sep=\",\", header=True)\n",
    "    save_it_all(df, name+\".pkl\")\n",
    "    \n",
    "# read info file:\n",
    "def readFile(fname):\n",
    "    with open(fname) as f:\n",
    "        content = f.readlines()\n",
    "    # you may also want to remove whitespace characters like `\\n` at the end of each line\n",
    "    content = [x.strip() for x in content]\n",
    "    return content"
   ]
  },
  {
   "cell_type": "code",
   "execution_count": 10,
   "metadata": {},
   "outputs": [],
   "source": [
    "# read in the data file \n",
    "dataFrame = pd.read_csv(\"../DataFiles/contactData/contact-lenses.csv\", header=0, sep=',')\n",
    "dataFrame.head()\n",
    "saveFrame(dataFrame, \"../DataFiles/contactData/contactData\")"
   ]
  },
  {
   "cell_type": "code",
   "execution_count": 11,
   "metadata": {},
   "outputs": [],
   "source": [
    "# read the info file \n",
    "info = readFile(\"../DataFiles/contactData/contactInfo.txt\")"
   ]
  },
  {
   "cell_type": "code",
   "execution_count": 12,
   "metadata": {},
   "outputs": [
    {
     "data": {
      "text/plain": [
       "['3',\n",
       " 'soft,hard,none',\n",
       " '4',\n",
       " 'age,3,young,pre-presbyopic,presbyopic',\n",
       " 'prescription,2,myope,hypermetrope',\n",
       " 'astigmatism,2,no,yes',\n",
       " 'tear-rate,2,reduced,normal',\n",
       " '24']"
      ]
     },
     "execution_count": 12,
     "metadata": {},
     "output_type": "execute_result"
    }
   ],
   "source": [
    "info"
   ]
  },
  {
   "cell_type": "code",
   "execution_count": 13,
   "metadata": {},
   "outputs": [],
   "source": [
    "infoDict = {}\n",
    "for index in range(0, len(info)):\n",
    "    if index == 0:\n",
    "        # class values\n",
    "        infoDict[\"classInfo\"] = {\"num\": int(info[index]), \"values\": info[1].split(\",\")}\n",
    "        \n",
    "    if index == 2:\n",
    "        infoDict[\"attributeInfo\"] = {\"num\":int(info[index])}\n",
    "        for attributeIndex in range(index+1, index+1+int(info[index])):\n",
    "            attribute = info[attributeIndex].split(\",\")[0]\n",
    "            numValues = info[attributeIndex].split(\",\")[1]\n",
    "            values = info[attributeIndex].split(\",\")[2:]\n",
    "            infoDict[\"attributeInfo\"][attribute] = {\"num\":numValues, \"values\":values}   \n",
    "    if index == len(info)-1:\n",
    "        infoDict[\"total\"] = int(info[index])\n",
    "            \n",
    "infoDict\n",
    "save_it_all(infoDict, \"../DataFiles/contactData/contactCounts.pkl\")"
   ]
  },
  {
   "cell_type": "code",
   "execution_count": 14,
   "metadata": {},
   "outputs": [
    {
     "data": {
      "text/plain": [
       "{'classInfo': {'num': 3, 'values': ['soft', 'hard', 'none']},\n",
       " 'attributeInfo': {'num': 4,\n",
       "  'age': {'num': '3', 'values': ['young', 'pre-presbyopic', 'presbyopic']},\n",
       "  'prescription': {'num': '2', 'values': ['myope', 'hypermetrope']},\n",
       "  'astigmatism': {'num': '2', 'values': ['no', 'yes']},\n",
       "  'tear-rate': {'num': '2', 'values': ['reduced', 'normal']}},\n",
       " 'total': 24}"
      ]
     },
     "execution_count": 14,
     "metadata": {},
     "output_type": "execute_result"
    }
   ],
   "source": [
    "infoDict"
   ]
  },
  {
   "cell_type": "code",
   "execution_count": null,
   "metadata": {},
   "outputs": [],
   "source": []
  }
 ],
 "metadata": {
  "kernelspec": {
   "display_name": "Python 3",
   "language": "python",
   "name": "python3"
  },
  "language_info": {
   "codemirror_mode": {
    "name": "ipython",
    "version": 3
   },
   "file_extension": ".py",
   "mimetype": "text/x-python",
   "name": "python",
   "nbconvert_exporter": "python",
   "pygments_lexer": "ipython3",
   "version": "3.6.5"
  }
 },
 "nbformat": 4,
 "nbformat_minor": 2
}
