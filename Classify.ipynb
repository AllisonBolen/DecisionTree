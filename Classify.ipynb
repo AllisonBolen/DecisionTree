{
 "cells": [
  {
   "cell_type": "code",
   "execution_count": 173,
   "metadata": {},
   "outputs": [],
   "source": [
    "import pandas as pd\n",
    "import pickle, os, math\n",
    "from pprint import pprint"
   ]
  },
  {
   "cell_type": "code",
   "execution_count": 182,
   "metadata": {},
   "outputs": [],
   "source": [
    "\n",
    "# defaults:\n",
    "def save_it_all(obj, filename):\n",
    "    os.makedirs(os.path.dirname(filename), exist_ok=True)\n",
    "    with open(filename, 'wb') as output:  # Overwrites any existing file.\n",
    "        pickle.dump(obj, output, pickle.HIGHEST_PROTOCOL)\n",
    "\n",
    "def load_objects(file):\n",
    "    with open(file, 'rb') as input:\n",
    "        return pickle.load(input)\n",
    "    \n",
    "def saveFrame(df, name):\n",
    "    df.to_csv(name+\".csv\", index=False, sep=\",\", header=True)\n",
    "    save_it_all(df, name+\".pkl\")"
   ]
  },
  {
   "cell_type": "code",
   "execution_count": 183,
   "metadata": {},
   "outputs": [],
   "source": [
    "def classify(instance, tree):\n",
    "    '''\n",
    "    This takes in an instance of data for classification and a tree to classify against\n",
    "    this method is recursive\n",
    "    and returns the resulting instance predication\n",
    "    '''\n",
    "    result = None\n",
    "    for k,v in tree.items():\n",
    "        edge = instance[k]\n",
    "        if type(tree[k][edge]) is dict:\n",
    "            t = tree.copy()\n",
    "            t = t[k][edge]\n",
    "            result = classify(instance, t)\n",
    "        else:\n",
    "            return tree[k][edge]\n",
    "    return result"
   ]
  },
  {
   "cell_type": "code",
   "execution_count": 185,
   "metadata": {},
   "outputs": [],
   "source": [
    "def main():\n",
    "    # #fish\n",
    "    # baseInfoDict = load_objects(\"DataFiles/fishData/fishTree.pkl\")\n",
    "    # dataframe = pd.read_csv(\"DataFiles/fishData/processedFishData.pkl\")\n",
    "\n",
    "\n",
    "    # # contacts\n",
    "    # baseInfoDict = load_objects(\"DataFiles/contactData/contactTree.pkl\")\n",
    "    # dataframe = pd.read_csv(\"DataFiles/contactData/contactData.pkl\")\n",
    "\n",
    "    # cars\n",
    "    tree = load_objects(\"DataFiles/carData/carTreeGini.pkl\")\n",
    "    dataframe = pd.read_csv(\"DataFiles/carData/car_test.csv\")\n",
    "\n",
    "    # # hw2\n",
    "    # test = load_objects(\"DataFiles/hw2set/trainTree.pkl\")\n",
    "    # dataframe = pd.read_csv(\"DataFiles/hw2set/test.csv\")\n",
    "    \n",
    "    results = []\n",
    "    count = 0 \n",
    "    for i in range(0,len(dataframe.index)):\n",
    "        dataframeNoClass = dataframe.drop(columns=[\"Class\"])\n",
    "        prediction = classify(dataframeNoClass.iloc[i, : ], tree)\n",
    "        results.append(prediction)\n",
    "        try:\n",
    "            if prediction == dataframe.iloc[i, : ][\"Class\"]:\n",
    "                #print(\"Right at instance: \"+ str(i)+\"!\\n \\tPrediction: \" + prediction + \"\\n\\tActual: \" + dataframe.iloc[i, : ][\"Class\"])\n",
    "                count = count + 1\n",
    "            else:\n",
    "                # print(\"-------WRONG--------\")\n",
    "                print(str(prediction)+\"!\")\n",
    "                i = None\n",
    "        except KeyError as e:\n",
    "            print(\"Key Error\")\n",
    "    print()\n",
    "    print(\"Right predictions: \" + str(count) + \".\\nWrong Predictions: \"+str(len(dataframe.index)-count)+\".\\nOut of \" + str(len(dataframe.index)) + \" total intances\")\n",
    "    "
   ]
  },
  {
   "cell_type": "code",
   "execution_count": 186,
   "metadata": {},
   "outputs": [
    {
     "name": "stdout",
     "output_type": "stream",
     "text": [
      "acceptable!\n",
      "poor!\n",
      "poor!\n",
      "poor!\n",
      "poor!\n",
      "poor!\n",
      "acceptable!\n",
      "poor!\n",
      "acceptable!\n",
      "acceptable!\n",
      "acceptable!\n",
      "poor!\n",
      "poor!\n",
      "acceptable!\n",
      "poor!\n",
      "poor!\n",
      "poor!\n",
      "acceptable!\n",
      "vgood!\n",
      "acceptable!\n",
      "poor!\n",
      "vgood!\n",
      "vgood!\n",
      "poor!\n",
      "vgood!\n",
      "acceptable!\n",
      "good!\n",
      "vgood!\n",
      "vgood!\n",
      "acceptable!\n",
      "acceptable!\n",
      "poor!\n",
      "poor!\n",
      "poor!\n",
      "acceptable!\n",
      "acceptable!\n",
      "good!\n",
      "good!\n",
      "good!\n",
      "vgood!\n",
      "acceptable!\n",
      "good!\n",
      "good!\n",
      "good!\n",
      "acceptable!\n",
      "poor!\n",
      "vgood!\n",
      "vgood!\n",
      "acceptable!\n",
      "acceptable!\n",
      "acceptable!\n",
      "good!\n",
      "acceptable!\n",
      "vgood!\n",
      "\n",
      "Right predictions: 438.\n",
      "Wrong Predictions: 54.\n",
      "Out of 492 total intances\n"
     ]
    }
   ],
   "source": [
    "if __name__ == \"__main__\": main()"
   ]
  },
  {
   "cell_type": "code",
   "execution_count": null,
   "metadata": {},
   "outputs": [],
   "source": []
  }
 ],
 "metadata": {
  "kernelspec": {
   "display_name": "Python 3",
   "language": "python",
   "name": "python3"
  },
  "language_info": {
   "codemirror_mode": {
    "name": "ipython",
    "version": 3
   },
   "file_extension": ".py",
   "mimetype": "text/x-python",
   "name": "python",
   "nbconvert_exporter": "python",
   "pygments_lexer": "ipython3",
   "version": "3.7.2"
  }
 },
 "nbformat": 4,
 "nbformat_minor": 2
}
